{
 "cells": [
  {
   "cell_type": "markdown",
   "metadata": {},
   "source": [
    "# Python Essential Reference - Rapid Recall Patterns\n",
    "\n",
    "> **Professional Quick Reference**: Distilled patterns for muscle memory development. Test in your environment."
   ]
  },
  {
   "cell_type": "markdown",
   "metadata": {},
   "source": [
    "## Core Data Patterns"
   ]
  },
  {
   "cell_type": "code",
   "execution_count": null,
   "metadata": {},
   "outputs": [],
   "source": [
    "# Variables & Types\n",
    "user_name = \"Alex\"                    # String\n",
    "user_age = 25                         # Integer  \n",
    "is_active = True                      # Boolean\n",
    "balance = 1250.75                     # Float\n",
    "\n",
    "# Type checking\n",
    "isinstance(user_age, int)             # True/False\n",
    "\n",
    "print(f\"User: {user_name}, Age: {user_age}, Active: {is_active}\")"
   ]
  },
  {
   "cell_type": "code",
   "execution_count": null,
   "metadata": {},
   "outputs": [],
   "source": [
    "# Lists (mutable, ordered)\n",
    "tasks = [\"code\", \"test\", \"deploy\"]\n",
    "tasks.append(\"monitor\")               # Add single\n",
    "tasks.extend([\"doc\", \"review\"])       # Add multiple  \n",
    "tasks_copy = tasks.copy()             # Independent copy\n",
    "task_count = len(tasks)               # Count items\n",
    "\n",
    "print(f\"Tasks: {tasks}\")\n",
    "print(f\"Count: {task_count}\")\n",
    "print(f\"Copy independent: {tasks is not tasks_copy}\")"
   ]
  },
  {
   "cell_type": "code",
   "execution_count": null,
   "metadata": {},
   "outputs": [],
   "source": [
    "# Dictionaries (mutable, key-value)\n",
    "config = {\"debug\": True, \"port\": 8000}\n",
    "timeout = config.get(\"timeout\", 30)   # Safe access with default\n",
    "config.update({\"ssl\": True})          # Add/update multiple\n",
    "\n",
    "print(f\"Config: {config}\")\n",
    "print(f\"Timeout (with default): {timeout}\")"
   ]
  },
  {
   "cell_type": "markdown",
   "metadata": {},
   "source": [
    "## Control Flow Patterns"
   ]
  },
  {
   "cell_type": "code",
   "execution_count": null,
   "metadata": {},
   "outputs": [],
   "source": [
    "# Conditionals with guard clauses\n",
    "def process_input(data):\n",
    "    if not data:                      # Early return\n",
    "        return \"No data\"\n",
    "    if not isinstance(data, str):\n",
    "        return \"Invalid type\"\n",
    "    \n",
    "    # Main logic after validation\n",
    "    return data.strip().lower()\n",
    "\n",
    "# Test the function\n",
    "test_cases = [\"  HELLO  \", \"\", 123, \"World\"]\n",
    "for case in test_cases:\n",
    "    result = process_input(case)\n",
    "    print(f\"Input: {repr(case)} → Output: {repr(result)}\")"
   ]
  },
  {
   "cell_type": "code",
   "execution_count": null,
   "metadata": {},
   "outputs": [],
   "source": [
    "# Safe iteration\n",
    "items = [\"apple\", \"banana\", \"cherry\"]\n",
    "for index, item in enumerate(items):\n",
    "    print(f\"{index}: {item}\")\n",
    "\n",
    "# List comprehensions\n",
    "numbers = [1, 2, 3, 4, 5, 6, 7, 8, 9, 10]\n",
    "evens = [n for n in numbers if n % 2 == 0]\n",
    "squares = [n**2 for n in numbers]\n",
    "\n",
    "print(f\"\\nEvens: {evens}\")\n",
    "print(f\"Squares: {squares}\")"
   ]
  },
  {
   "cell_type": "markdown",
   "metadata": {},
   "source": [
    "## Function Architecture"
   ]
  },
  {
   "cell_type": "code",
   "execution_count": null,
   "metadata": {},
   "outputs": [],
   "source": [
    "# Clean function with validation\n",
    "def calculate_metrics(lines, tests, bugs=0):\n",
    "    \"\"\"Calculate project metrics.\"\"\"\n",
    "    if lines <= 0 or tests < 0:\n",
    "        raise ValueError(\"Invalid inputs\")\n",
    "    \n",
    "    ratio = tests / lines\n",
    "    density = bugs / lines if lines > 0 else 0\n",
    "    \n",
    "    return {\n",
    "        \"test_ratio\": round(ratio, 3),\n",
    "        \"bug_density\": round(density, 4)\n",
    "    }\n",
    "\n",
    "# Test the function\n",
    "metrics = calculate_metrics(1000, 150, 5)\n",
    "print(f\"Metrics: {metrics}\")"
   ]
  },
  {
   "cell_type": "code",
   "execution_count": null,
   "metadata": {},
   "outputs": [],
   "source": [
    "# NEVER: def func(items=[]):         # Mutable default gotcha\n",
    "# ALWAYS: def func(items=None):      # Safe pattern\n",
    "#    if items is None: items = []\n",
    "\n",
    "def safe_function(item, item_list=None):\n",
    "    if item_list is None:\n",
    "        item_list = []\n",
    "    item_list.append(item)\n",
    "    return item_list\n",
    "\n",
    "# Demonstrate safety\n",
    "list1 = safe_function(\"a\")\n",
    "list2 = safe_function(\"b\")\n",
    "print(f\"List 1: {list1}\")\n",
    "print(f\"List 2: {list2}\")\n",
    "print(f\"Independent: {list1 is not list2}\")"
   ]
  },
  {
   "cell_type": "markdown",
   "metadata": {},
   "source": [
    "## Error Handling"
   ]
  },
  {
   "cell_type": "code",
   "execution_count": null,
   "metadata": {},
   "outputs": [],
   "source": [
    "# Try-except with specific exceptions\n",
    "def safe_file_read(filename):\n",
    "    try:\n",
    "        with open(filename, 'r') as f:\n",
    "            data = f.read()\n",
    "        return {\"success\": True, \"data\": data}\n",
    "\n",
    "    except FileNotFoundError:\n",
    "        return {\"success\": False, \"error\": \"File not found\"}\n",
    "    except PermissionError:\n",
    "        return {\"success\": False, \"error\": \"Permission denied\"}\n",
    "    except Exception as e:\n",
    "        return {\"success\": False, \"error\": str(e)}\n",
    "\n",
    "# Test with non-existent file\n",
    "result = safe_file_read(\"nonexistent.txt\")\n",
    "print(f\"File read result: {result}\")"
   ]
  },
  {
   "cell_type": "markdown",
   "metadata": {},
   "source": [
    "## String Operations"
   ]
  },
  {
   "cell_type": "code",
   "execution_count": null,
   "metadata": {},
   "outputs": [],
   "source": [
    "# Cleaning and formatting\n",
    "text = \"  hello   world  \"\n",
    "cleaned = text.strip()                # Remove whitespace\n",
    "normalized = ' '.join(text.split())   # Normalize spaces\n",
    "replaced = text.replace('\\t', ' ')    # Replace characters\n",
    "\n",
    "print(f\"Original: {repr(text)}\")\n",
    "print(f\"Cleaned: {repr(cleaned)}\")\n",
    "print(f\"Normalized: {repr(normalized)}\")\n",
    "\n",
    "# Modern formatting (f-strings)\n",
    "name = \"Alice\"\n",
    "score = 87.5\n",
    "formatted = f\"User {name} scored {score:.1f}\"    # Formatted output\n",
    "conditional = f\"Status: {'Pass' if score >= 70 else 'Fail'}\"  # Conditional\n",
    "\n",
    "print(f\"\\nFormatted: {formatted}\")\n",
    "print(f\"Conditional: {conditional}\")"
   ]
  },
  {
   "cell_type": "markdown",
   "metadata": {},
   "source": [
    "## File Operations"
   ]
  },
  {
   "cell_type": "code",
   "execution_count": null,
   "metadata": {},
   "outputs": [],
   "source": [
    "import json\n",
    "import csv\n",
    "from pathlib import Path\n",
    "\n",
    "# JSON operations\n",
    "data = {\"name\": \"Alice\", \"score\": 95}\n",
    "\n",
    "# Write JSON\n",
    "with open('data.json', 'w') as f:\n",
    "    json.dump(data, f, indent=2)\n",
    "\n",
    "# Read JSON\n",
    "with open('data.json', 'r') as f:\n",
    "    loaded_data = json.load(f)\n",
    "\n",
    "print(f\"JSON data: {loaded_data}\")"
   ]
  },
  {
   "cell_type": "code",
   "execution_count": null,
   "metadata": {},
   "outputs": [],
   "source": [
    "# CSV operations  \n",
    "csv_data = [\n",
    "    [\"name\", \"age\", \"city\"],\n",
    "    [\"Alice\", \"25\", \"NYC\"],\n",
    "    [\"Bob\", \"30\", \"LA\"]\n",
    "]\n",
    "\n",
    "# Write CSV\n",
    "with open('data.csv', 'w', newline='') as f:\n",
    "    writer = csv.writer(f)\n",
    "    writer.writerows(csv_data)\n",
    "\n",
    "# Read CSV\n",
    "with open('data.csv', 'r') as f:\n",
    "    reader = csv.DictReader(f)\n",
    "    rows = [row for row in reader]\n",
    "\n",
    "print(f\"CSV rows: {rows}\")"
   ]
  },
  {
   "cell_type": "code",
   "execution_count": null,
   "metadata": {},
   "outputs": [],
   "source": [
    "# Modern path handling\n",
    "file_path = Path(\"data/file.txt\")\n",
    "exists = file_path.exists()                    # Check existence\n",
    "file_path.parent.mkdir(parents=True, exist_ok=True)  # Create dirs\n",
    "\n",
    "print(f\"File exists: {exists}\")\n",
    "print(f\"Current directory: {Path.cwd()}\")\n",
    "print(f\"Parent created: {file_path.parent.exists()}\")"
   ]
  },
  {
   "cell_type": "markdown",
   "metadata": {},
   "source": [
    "## Class Essentials"
   ]
  },
  {
   "cell_type": "code",
   "execution_count": null,
   "metadata": {},
   "outputs": [],
   "source": [
    "class TaskTracker:\n",
    "    def __init__(self, name, tasks=None):\n",
    "        self.name = name\n",
    "        self.tasks = tasks.copy() if tasks else []  # Safe copy\n",
    "        self.completed = []\n",
    "    \n",
    "    def add_task(self, task):\n",
    "        if task not in self.tasks:\n",
    "            self.tasks.append(task)\n",
    "            return True\n",
    "        return False\n",
    "    \n",
    "    def complete_task(self, task):\n",
    "        if task in self.tasks:\n",
    "            self.tasks.remove(task)\n",
    "            self.completed.append(task)\n",
    "            return True\n",
    "        return False\n",
    "    \n",
    "    def progress(self):\n",
    "        total = len(self.tasks) + len(self.completed)\n",
    "        return len(self.completed) / total * 100 if total > 0 else 0\n",
    "    \n",
    "    def __str__(self):\n",
    "        return f\"{self.name}: {self.progress():.1f}% complete\"\n",
    "\n",
    "# Usage example\n",
    "tracker = TaskTracker(\"Project A\")\n",
    "tracker.add_task(\"Design\")\n",
    "tracker.add_task(\"Code\")\n",
    "tracker.add_task(\"Test\")\n",
    "tracker.complete_task(\"Design\")\n",
    "\n",
    "print(tracker)\n",
    "print(f\"Remaining: {tracker.tasks}\")\n",
    "print(f\"Completed: {tracker.completed}\")"
   ]
  },
  {
   "cell_type": "markdown",
   "metadata": {},
   "source": [
    "## Import Patterns"
   ]
  },
  {
   "cell_type": "code",
   "execution_count": null,
   "metadata": {},
   "outputs": [],
   "source": [
    "# Standard library\n",
    "import os\n",
    "import sys\n",
    "from pathlib import Path\n",
    "from typing import List, Dict, Optional\n",
    "\n",
    "# Module organization\n",
    "def main():\n",
    "    \"\"\"Main execution function.\"\"\"\n",
    "    print(\"Application starting...\")\n",
    "    return True\n",
    "\n",
    "if __name__ == \"__main__\":\n",
    "    result = main()\n",
    "    print(f\"Main execution result: {result}\")\n",
    "else:\n",
    "    print(\"Module imported\")"
   ]
  },
  {
   "cell_type": "markdown",
   "metadata": {},
   "source": [
    "## Common Gotchas - Prevention Patterns"
   ]
  },
  {
   "cell_type": "code",
   "execution_count": null,
   "metadata": {},
   "outputs": [],
   "source": [
    "# List reference vs copy\n",
    "original = [1, 2, 3]\n",
    "wrong = original                      # Same object!\n",
    "correct = original.copy()             # Independent copy\n",
    "\n",
    "print(f\"Original: {original}\")\n",
    "print(f\"Wrong (same object): {wrong is original}\")\n",
    "print(f\"Correct (different object): {correct is not original}\")"
   ]
  },
  {
   "cell_type": "code",
   "execution_count": null,
   "metadata": {},
   "outputs": [],
   "source": [
    "# String immutability (strings create new objects)\n",
    "text = \"hello\"\n",
    "upper_result = text.upper()           # Returns new string\n",
    "print(f\"Original text: {text}\")      # Still \"hello\"\n",
    "print(f\"Upper result: {upper_result}\")\n",
    "\n",
    "text = text.upper()                   # Assignment needed\n",
    "print(f\"After assignment: {text}\")"
   ]
  },
  {
   "cell_type": "code",
   "execution_count": null,
   "metadata": {},
   "outputs": [],
   "source": [
    "# Integer identity\n",
    "a = 256; b = 256                      # a is b → True (cached)\n",
    "print(f\"256 identity: {a is b}\")\n",
    "\n",
    "a = 257; b = 257                      # a is b → False (not cached) \n",
    "print(f\"257 identity: {a is b}\")\n",
    "print(f\"257 equality: {a == b}\")     # Use == for value comparison, is for identity"
   ]
  },
  {
   "cell_type": "markdown",
   "metadata": {},
   "source": [
    "## Memory Triggers\n",
    "\n",
    "**List**: `[]` - ordered, mutable, duplicates OK  \n",
    "**Dict**: `{}` - key-value, mutable, unique keys  \n",
    "**String**: `\"\"` - immutable, creates new on change  \n",
    "**Function**: Always validate inputs first  \n",
    "**Class**: Copy mutable defaults, not reference  \n",
    "**Files**: Always use `with` statement  \n",
    "**Errors**: Catch specific exceptions, not bare `except`"
   ]
  },
  {
   "cell_type": "markdown",
   "metadata": {},
   "source": [
    "## Quick Pattern Tests\n",
    "\n",
    "Run these cells to verify your understanding:"
   ]
  },
  {
   "cell_type": "code",
   "execution_count": null,
   "metadata": {},
   "outputs": [],
   "source": [
    "# Test 1: Safe list operations\n",
    "def test_list_safety():\n",
    "    original = [1, 2, 3]\n",
    "    copy = original.copy()\n",
    "    copy.append(4)\n",
    "    \n",
    "    return len(original) == 3 and len(copy) == 4\n",
    "\n",
    "print(f\"List safety test: {'PASS' if test_list_safety() else 'FAIL'}\")"
   ]
  },
  {
   "cell_type": "code",
   "execution_count": null,
   "metadata": {},
   "outputs": [],
   "source": [
    "# Test 2: Dictionary get() method\n",
    "def test_dict_safety():\n",
    "    data = {\"a\": 1, \"b\": 2}\n",
    "    result = data.get(\"c\", 0)  # Should return 0, not error\n",
    "    return result == 0\n",
    "\n",
    "print(f\"Dict safety test: {'PASS' if test_dict_safety() else 'FAIL'}\")"
   ]
  },
  {
   "cell_type": "code",
   "execution_count": null,
   "metadata": {},
   "outputs": [],
   "source": [
    "# Test 3: Function with mutable default prevention\n",
    "def safe_append(item, lst=None):\n",
    "    if lst is None:\n",
    "        lst = []\n",
    "    lst.append(item)\n",
    "    return lst\n",
    "\n",
    "def test_mutable_default():\n",
    "    list1 = safe_append(1)\n",
    "    list2 = safe_append(2)\n",
    "    return len(list1) == 1 and len(list2) == 1\n",
    "\n",
    "print(f\"Mutable default test: {'PASS' if test_mutable_default() else 'FAIL'}\")"
   ]
  },
  {
   "cell_type": "code",
   "execution_count": null,
   "metadata": {},
   "outputs": [],
   "source": [
    "# All tests summary\n",
    "tests = [\n",
    "    (\"List Safety\", test_list_safety()),\n",
    "    (\"Dict Safety\", test_dict_safety()),\n",
    "    (\"Mutable Default\", test_mutable_default())\n",
    "]\n",
    "\n",
    "print(\"\\n=== Pattern Mastery Check ===\")\n",
    "for test_name, passed in tests:\n",
    "    status = \"✅ PASS\" if passed else \"❌ FAIL\"\n",
    "    print(f\"{test_name}: {status}\")\n",
    "\n",
    "all_passed = all(result for _, result in tests)\n",
    "print(f\"\\nOverall: {'🎉 Ready for next level!' if all_passed else '📚 Review needed'}\")"
   ]
  },
  {
   "cell_type": "markdown",
   "metadata": {},
   "source": [
    "---\n",
    "\n",
    "**Pattern Status**: Manually reviewed for syntax consistency. Runtime testing required."
   ]
  }
 ],
 "metadata": {
  "kernelspec": {
   "display_name": "Python 3",
   "language": "python",
   "name": "python3"
  },
  "language_info": {
   "codemirror_mode": {
    "name": "ipython",
    "version": 3
   },
   "file_extension": ".py",
   "mimetype": "text/x-python",
   "name": "python",
   "nbconvert_exporter": "python",
   "pygments_lexer": "ipython3",
   "version": "3.8.0"
  }
 },
 "nbformat": 4,
 "nbformat_minor": 4
}